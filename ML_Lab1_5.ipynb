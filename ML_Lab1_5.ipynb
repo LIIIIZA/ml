{
  "cells": [
    {
      "cell_type": "markdown",
      "id": "ec6e7d18-6a6e-4a51-a7cd-0a1152604973",
      "metadata": {
        "id": "ec6e7d18-6a6e-4a51-a7cd-0a1152604973"
      },
      "source": [
        "## Лабораторная работа №1 | Вариант 5"
      ]
    },
    {
      "cell_type": "markdown",
      "id": "277877ce-f982-4711-a6a6-2a4a90871409",
      "metadata": {
        "id": "277877ce-f982-4711-a6a6-2a4a90871409"
      },
      "source": [
        "Выполнила: Леонова Елизавета М8О-310Б-22"
      ]
    },
    {
      "cell_type": "markdown",
      "id": "031f025d-84dc-470f-b839-456a76d9636b",
      "metadata": {
        "id": "031f025d-84dc-470f-b839-456a76d9636b"
      },
      "source": [
        "### 1. Numpy"
      ]
    },
    {
      "cell_type": "code",
      "execution_count": null,
      "id": "8a2c6f8d-e85b-4982-ba6d-77ffdb7d53e8",
      "metadata": {
        "id": "8a2c6f8d-e85b-4982-ba6d-77ffdb7d53e8"
      },
      "outputs": [],
      "source": [
        "import numpy as np"
      ]
    },
    {
      "cell_type": "markdown",
      "id": "6ff3559d-5f3e-4540-9a31-bfb9f42a23da",
      "metadata": {
        "id": "6ff3559d-5f3e-4540-9a31-bfb9f42a23da"
      },
      "source": [
        "1. Создайте единичную матрицу размером 3х3"
      ]
    },
    {
      "cell_type": "code",
      "execution_count": null,
      "id": "752bc586-1e3f-4085-85c3-4068b781314f",
      "metadata": {
        "colab": {
          "base_uri": "https://localhost:8080/"
        },
        "id": "752bc586-1e3f-4085-85c3-4068b781314f",
        "outputId": "51bb45d8-b74d-4cb8-d1c5-0fdaf7919def"
      },
      "outputs": [
        {
          "output_type": "execute_result",
          "data": {
            "text/plain": [
              "array([[1., 0., 0.],\n",
              "       [0., 1., 0.],\n",
              "       [0., 0., 1.]])"
            ]
          },
          "metadata": {},
          "execution_count": 32
        }
      ],
      "source": [
        "m = np.eye(3)\n",
        "m"
      ]
    },
    {
      "cell_type": "markdown",
      "id": "0243a0f6-1905-4e2d-9572-9ba49dc003a8",
      "metadata": {
        "id": "0243a0f6-1905-4e2d-9572-9ba49dc003a8"
      },
      "source": [
        "2. Создайте кастомный dtype который описывает цвет состоящий из 4х unsigned bytes(RGBA пиксель)"
      ]
    },
    {
      "cell_type": "code",
      "execution_count": null,
      "id": "ec6ae581-5adf-459c-bdc7-8b015d9529f6",
      "metadata": {
        "id": "ec6ae581-5adf-459c-bdc7-8b015d9529f6",
        "colab": {
          "base_uri": "https://localhost:8080/"
        },
        "outputId": "5b9debd7-a5de-4893-b888-1fcc4c2fef1f"
      },
      "outputs": [
        {
          "output_type": "execute_result",
          "data": {
            "text/plain": [
              "dtype([('red', 'u1'), ('green', 'u1'), ('blue', 'u1'), ('alpha,', 'u1')])"
            ]
          },
          "metadata": {},
          "execution_count": 36
        }
      ],
      "source": [
        "colour_dtype = np.dtype([('red', np.ubyte), ('green', np.ubyte), ('blue', np.ubyte), ('alpha,', np.ubyte)])\n",
        "colour_dtype"
      ]
    },
    {
      "cell_type": "markdown",
      "id": "8c7d3811-a555-4c02-ada8-e4a70b9dee46",
      "metadata": {
        "id": "8c7d3811-a555-4c02-ada8-e4a70b9dee46"
      },
      "source": [
        "3. Как игнорировать все numpy warnings(не рекомендуем к использованию)?"
      ]
    },
    {
      "cell_type": "code",
      "execution_count": null,
      "id": "12d0ed34-908c-4840-8b81-457e64dd7b0b",
      "metadata": {
        "colab": {
          "base_uri": "https://localhost:8080/",
          "height": 36
        },
        "id": "12d0ed34-908c-4840-8b81-457e64dd7b0b",
        "outputId": "5c8c90f8-366e-484d-997b-b38c7a120e1f"
      },
      "outputs": [
        {
          "output_type": "execute_result",
          "data": {
            "text/plain": [
              "\"\\nimport warnings\\nwarnings.filterwarnings('ignore')\\n\""
            ],
            "application/vnd.google.colaboratory.intrinsic+json": {
              "type": "string"
            }
          },
          "metadata": {},
          "execution_count": 12
        }
      ],
      "source": [
        "'''\n",
        "import warnings\n",
        "warnings.filterwarnings('ignore')\n",
        "'''"
      ]
    },
    {
      "cell_type": "markdown",
      "id": "b7ca56e6-a194-4c42-b8a2-307fcf40f648",
      "metadata": {
        "id": "b7ca56e6-a194-4c42-b8a2-307fcf40f648"
      },
      "source": [
        "4. Создайте случайный вектор размера 10 и отсортируйте его"
      ]
    },
    {
      "cell_type": "code",
      "execution_count": null,
      "id": "1b1d64cd-0e28-400f-8d49-a1274947e150",
      "metadata": {
        "id": "1b1d64cd-0e28-400f-8d49-a1274947e150",
        "colab": {
          "base_uri": "https://localhost:8080/"
        },
        "outputId": "1841085d-00ee-4c7e-e0ad-5efa2b5938ba"
      },
      "outputs": [
        {
          "output_type": "execute_result",
          "data": {
            "text/plain": [
              "array([-753, -732, -655, -635, -453, -374, -326, -309, -167,   33])"
            ]
          },
          "metadata": {},
          "execution_count": 5
        }
      ],
      "source": [
        "v = np.random.randint(-763, 482, 10)\n",
        "np.sort(v)"
      ]
    },
    {
      "cell_type": "markdown",
      "id": "b3b2cd1e-e996-45e0-b9ed-e12ce653a9c3",
      "metadata": {
        "id": "b3b2cd1e-e996-45e0-b9ed-e12ce653a9c3"
      },
      "source": [
        "5. Создайте read-only массив(неизменяемый)"
      ]
    },
    {
      "cell_type": "code",
      "execution_count": null,
      "id": "c40ef785-d750-42ba-ac6e-b777866202a6",
      "metadata": {
        "id": "c40ef785-d750-42ba-ac6e-b777866202a6",
        "colab": {
          "base_uri": "https://localhost:8080/",
          "height": 158
        },
        "outputId": "d12508a1-8045-4381-b57f-d1eea96fd125"
      },
      "outputs": [
        {
          "output_type": "error",
          "ename": "TypeError",
          "evalue": "'tuple' object does not support item assignment",
          "traceback": [
            "\u001b[0;31m---------------------------------------------------------------------------\u001b[0m",
            "\u001b[0;31mTypeError\u001b[0m                                 Traceback (most recent call last)",
            "\u001b[0;32m<ipython-input-1-0628f000771a>\u001b[0m in \u001b[0;36m<cell line: 2>\u001b[0;34m()\u001b[0m\n\u001b[1;32m      1\u001b[0m \u001b[0mt\u001b[0m \u001b[0;34m=\u001b[0m \u001b[0;34m(\u001b[0m\u001b[0;34m't'\u001b[0m\u001b[0;34m,\u001b[0m \u001b[0;34m'u'\u001b[0m\u001b[0;34m,\u001b[0m \u001b[0;34m'p'\u001b[0m\u001b[0;34m,\u001b[0m \u001b[0;34m'l'\u001b[0m\u001b[0;34m,\u001b[0m \u001b[0;34m'e'\u001b[0m\u001b[0;34m)\u001b[0m\u001b[0;34m\u001b[0m\u001b[0;34m\u001b[0m\u001b[0m\n\u001b[0;32m----> 2\u001b[0;31m \u001b[0mt\u001b[0m\u001b[0;34m[\u001b[0m\u001b[0;36m2\u001b[0m\u001b[0;34m]\u001b[0m \u001b[0;34m=\u001b[0m \u001b[0;34m'2'\u001b[0m\u001b[0;34m\u001b[0m\u001b[0;34m\u001b[0m\u001b[0m\n\u001b[0m",
            "\u001b[0;31mTypeError\u001b[0m: 'tuple' object does not support item assignment"
          ]
        }
      ],
      "source": [
        "t = ('t', 'u', 'p', 'l', 'e')\n",
        "t[2] = '2'"
      ]
    },
    {
      "cell_type": "markdown",
      "id": "8108b3a8-5ba8-472d-ad6b-095ade8678ef",
      "metadata": {
        "id": "8108b3a8-5ba8-472d-ad6b-095ade8678ef"
      },
      "source": [
        "6. Рассмотрим случайную матрицу размером 10х2, представляющую декартовы координаты, преобразуем их в полярные координаты"
      ]
    },
    {
      "cell_type": "code",
      "execution_count": null,
      "id": "89b58c0a-bd5d-435a-be45-719fdfce662a",
      "metadata": {
        "id": "89b58c0a-bd5d-435a-be45-719fdfce662a",
        "colab": {
          "base_uri": "https://localhost:8080/"
        },
        "outputId": "6552d5a6-6ecd-4e28-875a-cd760deb5eda"
      },
      "outputs": [
        {
          "output_type": "stream",
          "name": "stdout",
          "text": [
            "[[-12  18]\n",
            " [-12 -15]\n",
            " [-17 -21]\n",
            " [-17   4]\n",
            " [ -8 -28]\n",
            " [ 13   6]\n",
            " [ -9 -22]\n",
            " [ -7  17]\n",
            " [  4  21]\n",
            " [  9   0]]\n",
            "[[  21.63330765  123.69006753]\n",
            " [  19.20937271 -128.65980825]\n",
            " [  27.01851217 -128.99099404]\n",
            " [  17.4642492   166.75948008]\n",
            " [  29.12043956 -105.9453959 ]\n",
            " [  14.31782106   24.77514057]\n",
            " [  23.76972865 -112.24902366]\n",
            " [  18.38477631  112.38013505]\n",
            " [  21.37755833   79.21570213]\n",
            " [   9.            0.        ]]\n"
          ]
        }
      ],
      "source": [
        "decart = np.random.randint(-30,30,(10,2)) #first column is x, second is y\n",
        "polar = np.zeros((10,2)) #first column is r, second is phi\n",
        "for i in range(10) :\n",
        "    polar[i][0] = np.sqrt(decart[i][0]*decart[i][0]+decart[i][1]*decart[i][1])\n",
        "    tmp = decart[i][1]/decart[i][0]\n",
        "    polar[i][1] = np.rad2deg(np.arctan2(decart[i][1], decart[i][0]))\n",
        "print(decart)\n",
        "print(polar)"
      ]
    },
    {
      "cell_type": "markdown",
      "id": "98511652-db85-4506-a5b8-f94b05d35ce9",
      "metadata": {
        "id": "98511652-db85-4506-a5b8-f94b05d35ce9"
      },
      "source": [
        "7. Создайте структурированный массив с координатами x и y, охватывающий область [0,1]x[0,1]"
      ]
    },
    {
      "cell_type": "code",
      "execution_count": null,
      "id": "ca72cdb0-ed24-460d-81a9-220b850d62c3",
      "metadata": {
        "id": "ca72cdb0-ed24-460d-81a9-220b850d62c3",
        "colab": {
          "base_uri": "https://localhost:8080/"
        },
        "outputId": "23c39ad6-eb49-439d-99c8-a6acf9a62291"
      },
      "outputs": [
        {
          "output_type": "execute_result",
          "data": {
            "text/plain": [
              "array([(0.        , 0.        ), (0.11111111, 0.        ),\n",
              "       (0.22222222, 0.        ), (0.33333334, 0.        ),\n",
              "       (0.44444445, 0.        ), (0.5555556 , 0.        ),\n",
              "       (0.6666667 , 0.        ), (0.7777778 , 0.        ),\n",
              "       (0.8888889 , 0.        ), (1.        , 0.        ),\n",
              "       (0.        , 0.11111111), (0.11111111, 0.11111111),\n",
              "       (0.22222222, 0.11111111), (0.33333334, 0.11111111),\n",
              "       (0.44444445, 0.11111111), (0.5555556 , 0.11111111),\n",
              "       (0.6666667 , 0.11111111), (0.7777778 , 0.11111111),\n",
              "       (0.8888889 , 0.11111111), (1.        , 0.11111111),\n",
              "       (0.        , 0.22222222), (0.11111111, 0.22222222),\n",
              "       (0.22222222, 0.22222222), (0.33333334, 0.22222222),\n",
              "       (0.44444445, 0.22222222), (0.5555556 , 0.22222222),\n",
              "       (0.6666667 , 0.22222222), (0.7777778 , 0.22222222),\n",
              "       (0.8888889 , 0.22222222), (1.        , 0.22222222),\n",
              "       (0.        , 0.33333334), (0.11111111, 0.33333334),\n",
              "       (0.22222222, 0.33333334), (0.33333334, 0.33333334),\n",
              "       (0.44444445, 0.33333334), (0.5555556 , 0.33333334),\n",
              "       (0.6666667 , 0.33333334), (0.7777778 , 0.33333334),\n",
              "       (0.8888889 , 0.33333334), (1.        , 0.33333334),\n",
              "       (0.        , 0.44444445), (0.11111111, 0.44444445),\n",
              "       (0.22222222, 0.44444445), (0.33333334, 0.44444445),\n",
              "       (0.44444445, 0.44444445), (0.5555556 , 0.44444445),\n",
              "       (0.6666667 , 0.44444445), (0.7777778 , 0.44444445),\n",
              "       (0.8888889 , 0.44444445), (1.        , 0.44444445),\n",
              "       (0.        , 0.5555556 ), (0.11111111, 0.5555556 ),\n",
              "       (0.22222222, 0.5555556 ), (0.33333334, 0.5555556 ),\n",
              "       (0.44444445, 0.5555556 ), (0.5555556 , 0.5555556 ),\n",
              "       (0.6666667 , 0.5555556 ), (0.7777778 , 0.5555556 ),\n",
              "       (0.8888889 , 0.5555556 ), (1.        , 0.5555556 ),\n",
              "       (0.        , 0.6666667 ), (0.11111111, 0.6666667 ),\n",
              "       (0.22222222, 0.6666667 ), (0.33333334, 0.6666667 ),\n",
              "       (0.44444445, 0.6666667 ), (0.5555556 , 0.6666667 ),\n",
              "       (0.6666667 , 0.6666667 ), (0.7777778 , 0.6666667 ),\n",
              "       (0.8888889 , 0.6666667 ), (1.        , 0.6666667 ),\n",
              "       (0.        , 0.7777778 ), (0.11111111, 0.7777778 ),\n",
              "       (0.22222222, 0.7777778 ), (0.33333334, 0.7777778 ),\n",
              "       (0.44444445, 0.7777778 ), (0.5555556 , 0.7777778 ),\n",
              "       (0.6666667 , 0.7777778 ), (0.7777778 , 0.7777778 ),\n",
              "       (0.8888889 , 0.7777778 ), (1.        , 0.7777778 ),\n",
              "       (0.        , 0.8888889 ), (0.11111111, 0.8888889 ),\n",
              "       (0.22222222, 0.8888889 ), (0.33333334, 0.8888889 ),\n",
              "       (0.44444445, 0.8888889 ), (0.5555556 , 0.8888889 ),\n",
              "       (0.6666667 , 0.8888889 ), (0.7777778 , 0.8888889 ),\n",
              "       (0.8888889 , 0.8888889 ), (1.        , 0.8888889 ),\n",
              "       (0.        , 1.        ), (0.11111111, 1.        ),\n",
              "       (0.22222222, 1.        ), (0.33333334, 1.        ),\n",
              "       (0.44444445, 1.        ), (0.5555556 , 1.        ),\n",
              "       (0.6666667 , 1.        ), (0.7777778 , 1.        ),\n",
              "       (0.8888889 , 1.        ), (1.        , 1.        )],\n",
              "      dtype=[('x', '<f4'), ('y', '<f4')])"
            ]
          },
          "metadata": {},
          "execution_count": 38
        }
      ],
      "source": [
        "coord_dtype = np.dtype([('x', np.float32), ('y', np.float32)])\n",
        "\n",
        "x, y = np.meshgrid(np.linspace(0, 1, 10), np.linspace(0, 1, 10))\n",
        "x = x.reshape(-1)\n",
        "y = y.reshape(-1)\n",
        "\n",
        "coords = np.zeros(x.shape, dtype=coord_dtype)\n",
        "coords['x'] = x\n",
        "coords['y'] = y\n",
        "\n",
        "coords"
      ]
    },
    {
      "cell_type": "markdown",
      "id": "1412a70a-2a1e-406e-a227-afc9a47ed659",
      "metadata": {
        "id": "1412a70a-2a1e-406e-a227-afc9a47ed659"
      },
      "source": [
        "8. Учитывая два массива X и Y, постройте матрицу Коши $C$ ($C_{ij} =\\frac{1}{x_i - y_j}$)"
      ]
    },
    {
      "cell_type": "code",
      "execution_count": null,
      "id": "22bb8bbf-52dd-4d3c-86c0-c4e9637b909b",
      "metadata": {
        "id": "22bb8bbf-52dd-4d3c-86c0-c4e9637b909b"
      },
      "outputs": [],
      "source": [
        "x = np.random.normal(size=(5))\n",
        "y = np.random.normal(size=(5))\n",
        "C = [[1/(x[i]-y[j]) for j in range(5)] for i in range(5)]"
      ]
    },
    {
      "cell_type": "markdown",
      "id": "f7dc66bf-f7c8-4d78-834b-451651f6839a",
      "metadata": {
        "id": "f7dc66bf-f7c8-4d78-834b-451651f6839a"
      },
      "source": [
        "9. Как конвертировать массив float(32 bit) к массиву целых чисел (integer 32 bit) in place?"
      ]
    },
    {
      "cell_type": "code",
      "execution_count": null,
      "id": "0ecf5586-d30e-4256-ab93-7ff9bab0b34b",
      "metadata": {
        "id": "0ecf5586-d30e-4256-ab93-7ff9bab0b34b",
        "colab": {
          "base_uri": "https://localhost:8080/"
        },
        "outputId": "88ec54d0-3511-48d3-d81b-b748646c63da"
      },
      "outputs": [
        {
          "output_type": "execute_result",
          "data": {
            "text/plain": [
              "array([  35,  561, -223])"
            ]
          },
          "metadata": {},
          "execution_count": 31
        }
      ],
      "source": [
        "float_array = np.array([35.6222, 561.445, -223.568])\n",
        "int_array = float_array.astype(int, copy=False)\n",
        "int_array"
      ]
    },
    {
      "cell_type": "markdown",
      "id": "a66194f1-0099-4808-8ebf-5cf10eee5071",
      "metadata": {
        "id": "a66194f1-0099-4808-8ebf-5cf10eee5071"
      },
      "source": [
        "10. Как случайно заменить p элементов в 2D массиве?"
      ]
    },
    {
      "cell_type": "code",
      "execution_count": null,
      "id": "07ed452c-3f7c-40a7-a5b5-716602a5eed9",
      "metadata": {
        "id": "07ed452c-3f7c-40a7-a5b5-716602a5eed9"
      },
      "outputs": [],
      "source": [
        "x = np.array([[ 1., 2., 3.], [ 4., 5., 6.], [ 7., 8., 9.]])\n",
        "mask = np.random.randint(0,2,size=x.shape).astype(np.bool)\n",
        "r = np.random.rand(*x.shape)*np.max(x)\n",
        "x[mask] = r[mask]"
      ]
    },
    {
      "cell_type": "markdown",
      "id": "5bd0f757-bb01-4afb-b4f0-6821b5c5b2b7",
      "metadata": {
        "id": "5bd0f757-bb01-4afb-b4f0-6821b5c5b2b7"
      },
      "source": [
        "### 2. Pandas"
      ]
    },
    {
      "cell_type": "markdown",
      "id": "bdffd013-e573-4318-8062-65ae1c5e07e8",
      "metadata": {
        "id": "bdffd013-e573-4318-8062-65ae1c5e07e8"
      },
      "source": [
        "Найдите ответы на вопросы или выполните действия с предложенным датасетом\n",
        "\n",
        "Классический начальный набор данных - данные пассажиров титаника.\n",
        "\n",
        "Файл: `data.csv`\n",
        "\n",
        "```\n",
        "PassangerId - уникальный номер пассажира\n",
        "Survived - выжил человек или нет\n",
        "Pclass - класс обслуживания\n",
        "Name - имя человека, обращение к ней/нему\n",
        "Sex - пол человека\n",
        "Age - возраст на момент крушения\n",
        "SibSp - количество братьев и сестер / супругов на борту \"Титаника\"\n",
        "Parch - количество родителей / детей на борту \"Титаника\"\n",
        "Ticket - номер билета\n",
        "Fare - стоимость проезда для пассажиров\n",
        "Cabin - каюта\n",
        "Embarked - причал отбытия. C = Cherbourg Q = Queenstown S = Southampton\n",
        "```"
      ]
    },
    {
      "cell_type": "code",
      "execution_count": null,
      "id": "0778ec2b-a7b2-4738-b771-bb1781986f62",
      "metadata": {
        "id": "0778ec2b-a7b2-4738-b771-bb1781986f62"
      },
      "outputs": [],
      "source": [
        "import pandas as pd"
      ]
    },
    {
      "cell_type": "code",
      "execution_count": null,
      "id": "bfc45614-d44b-49bd-a55c-c410a95a808f",
      "metadata": {
        "id": "bfc45614-d44b-49bd-a55c-c410a95a808f",
        "colab": {
          "base_uri": "https://localhost:8080/"
        },
        "outputId": "58bbc3f8-4349-421d-f0d4-cba9def09917"
      },
      "outputs": [
        {
          "output_type": "stream",
          "name": "stdout",
          "text": [
            "Mounted at /content/drive\n"
          ]
        }
      ],
      "source": [
        "from google.colab import drive\n",
        "drive.mount('/content/drive')"
      ]
    },
    {
      "cell_type": "code",
      "source": [
        "df = pd.read_csv('/content/drive/My Drive/ml_mai/data.csv')"
      ],
      "metadata": {
        "id": "-Gv8l-2r-WlH"
      },
      "id": "-Gv8l-2r-WlH",
      "execution_count": null,
      "outputs": []
    },
    {
      "cell_type": "markdown",
      "id": "1026e8c6-513a-41e3-b2f4-68aae18b8435",
      "metadata": {
        "id": "1026e8c6-513a-41e3-b2f4-68aae18b8435"
      },
      "source": [
        "1. Узнайте сколько было на борту человек"
      ]
    },
    {
      "cell_type": "code",
      "execution_count": null,
      "id": "e74655aa-b97c-42e5-b972-e0753ddc2331",
      "metadata": {
        "id": "e74655aa-b97c-42e5-b972-e0753ddc2331",
        "colab": {
          "base_uri": "https://localhost:8080/"
        },
        "outputId": "a173e773-df36-44e3-b9b9-814064d7938b"
      },
      "outputs": [
        {
          "output_type": "execute_result",
          "data": {
            "text/plain": [
              "891"
            ]
          },
          "metadata": {},
          "execution_count": 5
        }
      ],
      "source": [
        "df.shape[0]"
      ]
    },
    {
      "cell_type": "markdown",
      "id": "eee028a5-9311-4a4f-b4ac-1fb75acfb4b3",
      "metadata": {
        "id": "eee028a5-9311-4a4f-b4ac-1fb75acfb4b3"
      },
      "source": [
        "2. Какой медианный и средний возраста пассажиров"
      ]
    },
    {
      "cell_type": "code",
      "execution_count": null,
      "id": "ac0fb641-96d2-4e7c-88d5-636ce3b699d2",
      "metadata": {
        "id": "ac0fb641-96d2-4e7c-88d5-636ce3b699d2",
        "colab": {
          "base_uri": "https://localhost:8080/"
        },
        "outputId": "ef162a9f-e3d5-474d-d675-ac3e2e420058"
      },
      "outputs": [
        {
          "output_type": "stream",
          "name": "stdout",
          "text": [
            "Медианный возраст:  29.69911764705882\n",
            "Средний возраст 28.0\n"
          ]
        }
      ],
      "source": [
        "print('Медианный возраст: ', df['Age'].mean())\n",
        "print('Средний возраст', df['Age'].median())"
      ]
    },
    {
      "cell_type": "markdown",
      "id": "cd7979ba-2fa8-4fd3-986d-26cee122da1f",
      "metadata": {
        "id": "cd7979ba-2fa8-4fd3-986d-26cee122da1f"
      },
      "source": [
        "3. Посчитайте процент выживаемости детей(до 16 лет) и взрослых"
      ]
    },
    {
      "cell_type": "code",
      "execution_count": null,
      "id": "3915f77b-116c-482b-8644-2f5f11931af9",
      "metadata": {
        "id": "3915f77b-116c-482b-8644-2f5f11931af9",
        "colab": {
          "base_uri": "https://localhost:8080/"
        },
        "outputId": "8c048d45-7c53-4860-c9b4-cdf9684350f1"
      },
      "outputs": [
        {
          "output_type": "stream",
          "name": "stdout",
          "text": [
            "Процент выживаемости детей: 38.273615635179155\n",
            "Процент выживаемости взрослых: 55.00000000000001\n"
          ]
        }
      ],
      "source": [
        "print('Процент выживаемости детей: ', end = '')\n",
        "print(df[(df['Age']>16) & (df['Survived']==1)]['Age'].count()/df[df['Age']>16]['Age'].count()*100)\n",
        "print('Процент выживаемости взрослых: ', end = '')\n",
        "print(df[(df['Age']<=16) & (df['Survived']==1)]['Age'].count()/df[df['Age']<=16]['Age'].count()*100)"
      ]
    },
    {
      "cell_type": "markdown",
      "id": "1b69ba67-61a8-4765-9795-cfab1a09e929",
      "metadata": {
        "id": "1b69ba67-61a8-4765-9795-cfab1a09e929"
      },
      "source": [
        "4. Верна ли гипотеза, что женщины и дети сажались в шлюпки первыми и выживали больше?"
      ]
    },
    {
      "cell_type": "code",
      "execution_count": null,
      "id": "1228d2e9-fc56-4240-95c6-c98a8b84c016",
      "metadata": {
        "id": "1228d2e9-fc56-4240-95c6-c98a8b84c016",
        "colab": {
          "base_uri": "https://localhost:8080/"
        },
        "outputId": "3d7e4b60-5cb1-43e2-e497-6ada893f7215"
      },
      "outputs": [
        {
          "output_type": "stream",
          "name": "stdout",
          "text": [
            "Процент выживаемости женщин и детей: 70.1923076923077\n",
            "Процент выживаемости мужчин: 17.66169154228856\n",
            "->Гипотеза верна\n"
          ]
        }
      ],
      "source": [
        "print('Процент выживаемости женщин и детей: ', end = '')\n",
        "print(df[((df['Age']<=16) | ((df['Sex']=='female') & (df['Age']>16))) & df['Survived']==1]['Age'].count()/df[(df['Age']<=16) | ((df['Sex']=='female') & (df['Age']>16))]['Age'].count()*100)\n",
        "print('Процент выживаемости мужчин: ', end = '')\n",
        "print(df[((df['Sex']=='male') & (df['Age']>16)) & df['Survived']==1]['Age'].count()/df[(df['Sex']=='male') & (df['Age']>16)]['Age'].count()*100)\n",
        "print('-> Гипотеза верна')"
      ]
    },
    {
      "cell_type": "markdown",
      "id": "5acec4fd-f740-49a8-a5d8-562d358239c9",
      "metadata": {
        "id": "5acec4fd-f740-49a8-a5d8-562d358239c9"
      },
      "source": [
        "5. Зависит ли выживаемость от класса обслуживания?"
      ]
    },
    {
      "cell_type": "code",
      "execution_count": null,
      "id": "cac8daef-f4e8-4c8b-b7f4-d41a6adf35ed",
      "metadata": {
        "id": "cac8daef-f4e8-4c8b-b7f4-d41a6adf35ed",
        "colab": {
          "base_uri": "https://localhost:8080/"
        },
        "outputId": "75e8fff7-b2a4-4c85-e369-6cd0133e6db1"
      },
      "outputs": [
        {
          "output_type": "stream",
          "name": "stdout",
          "text": [
            "Pclass  Survived\n",
            "1       0            80\n",
            "        1           136\n",
            "2       0            97\n",
            "        1            87\n",
            "3       0           372\n",
            "        1           119\n",
            "Name: PassengerId, dtype: int64\n",
            "Процент выживаемости пассажиров 1 класса:  62.96296296296296\n",
            "Процент выживаемости пассажиров 2 класса:  47.28260869565217\n",
            "Процент выживаемости пассажиров 3 класса:  24.236252545824847\n",
            "->Выживаемость зависит от класса обслуживания: у 3 класса выживаемость наименьшая, а у 1 класса - наибольшая\n"
          ]
        }
      ],
      "source": [
        "print(df.groupby(['Pclass','Survived'])['PassengerId'].count())\n",
        "print('Процент выживаемости пассажиров 1 класса: ', 136/(136+80)*100)\n",
        "print('Процент выживаемости пассажиров 2 класса: ', 87/(97+87)*100)\n",
        "print('Процент выживаемости пассажиров 3 класса: ', 119/(119+372)*100)\n",
        "print('-> Выживаемость зависит от класса обслуживания: у 3 класса выживаемость наименьшая, а у 1 класса - наибольшая')"
      ]
    },
    {
      "cell_type": "markdown",
      "id": "8d6171a9-0f75-4f3e-ac54-95d03d1f70b6",
      "metadata": {
        "id": "8d6171a9-0f75-4f3e-ac54-95d03d1f70b6"
      },
      "source": [
        "6. Посчитайте средний возраст умерших женщин и мужчин"
      ]
    },
    {
      "cell_type": "code",
      "execution_count": null,
      "id": "c64d0892-2fb8-4304-966c-5cbb32b03c0a",
      "metadata": {
        "id": "c64d0892-2fb8-4304-966c-5cbb32b03c0a",
        "colab": {
          "base_uri": "https://localhost:8080/",
          "height": 178
        },
        "outputId": "6a87f48c-1c3b-4ed9-a95b-389160a11c04"
      },
      "outputs": [
        {
          "output_type": "execute_result",
          "data": {
            "text/plain": [
              "Sex\n",
              "female    25.046875\n",
              "male      31.618056\n",
              "Name: Age, dtype: float64"
            ],
            "text/html": [
              "<div>\n",
              "<style scoped>\n",
              "    .dataframe tbody tr th:only-of-type {\n",
              "        vertical-align: middle;\n",
              "    }\n",
              "\n",
              "    .dataframe tbody tr th {\n",
              "        vertical-align: top;\n",
              "    }\n",
              "\n",
              "    .dataframe thead th {\n",
              "        text-align: right;\n",
              "    }\n",
              "</style>\n",
              "<table border=\"1\" class=\"dataframe\">\n",
              "  <thead>\n",
              "    <tr style=\"text-align: right;\">\n",
              "      <th></th>\n",
              "      <th>Age</th>\n",
              "    </tr>\n",
              "    <tr>\n",
              "      <th>Sex</th>\n",
              "      <th></th>\n",
              "    </tr>\n",
              "  </thead>\n",
              "  <tbody>\n",
              "    <tr>\n",
              "      <th>female</th>\n",
              "      <td>25.046875</td>\n",
              "    </tr>\n",
              "    <tr>\n",
              "      <th>male</th>\n",
              "      <td>31.618056</td>\n",
              "    </tr>\n",
              "  </tbody>\n",
              "</table>\n",
              "</div><br><label><b>dtype:</b> float64</label>"
            ]
          },
          "metadata": {},
          "execution_count": 52
        }
      ],
      "source": [
        "df[df['Survived']==0].groupby('Sex')['Age'].mean()"
      ]
    },
    {
      "cell_type": "markdown",
      "id": "d29320f9-aef8-452c-9d61-0afa72dd93b6",
      "metadata": {
        "id": "d29320f9-aef8-452c-9d61-0afa72dd93b6"
      },
      "source": [
        "7. Различается ли процент выживаемости пассажиров с хотя бы одним родственником на борту и одиночек?"
      ]
    },
    {
      "cell_type": "code",
      "execution_count": null,
      "id": "d04e1904-f9f3-40bd-abbd-4d53ee9f7bd2",
      "metadata": {
        "id": "d04e1904-f9f3-40bd-abbd-4d53ee9f7bd2",
        "colab": {
          "base_uri": "https://localhost:8080/"
        },
        "outputId": "12e48568-66dc-4d3e-abb1-ce6755c78262"
      },
      "outputs": [
        {
          "output_type": "stream",
          "name": "stdout",
          "text": [
            "Процент выживаемости одиночек: 30.353817504655495\n",
            "Процент выживаемости пассажиров с хотя бы с одним родственником: 36.337209302325576\n",
            "->Пассажиры с хотя бы с одним родственником выживали чаще\n"
          ]
        }
      ],
      "source": [
        "print('Процент выживаемости одиночек: ', end='')\n",
        "print(df[(df['Parch']==0) & (df['SibSp']==0) & (df['Survived']==1)]['PassengerId'].count()/df[(df['Parch']==0) & (df['SibSp']==0)]['PassengerId'].count()*100)\n",
        "print('Процент выживаемости пассажиров с хотя бы с одним родственником: ', end='')\n",
        "print(df[((df['Parch']==1) | (df['SibSp']==0)) & (df['Survived']==1)]['PassengerId'].count()/df[(df['Parch']==1) | (df['SibSp']==0)]['PassengerId'].count()*100)\n",
        "print('-> Пассажиры с хотя бы с одним родственником выживали чаще')"
      ]
    },
    {
      "cell_type": "markdown",
      "id": "1d447d6e-cfde-411c-9078-cd8f41f02d8b",
      "metadata": {
        "id": "1d447d6e-cfde-411c-9078-cd8f41f02d8b"
      },
      "source": [
        "8. Различается ли средняя стоимость билета у умерших и выживших пассажиров?"
      ]
    },
    {
      "cell_type": "code",
      "execution_count": null,
      "id": "b30df6b1-5eca-43da-a115-1c1a3cbfd899",
      "metadata": {
        "id": "b30df6b1-5eca-43da-a115-1c1a3cbfd899",
        "colab": {
          "base_uri": "https://localhost:8080/"
        },
        "outputId": "15769669-34a3-41da-bff9-f2b078a836bb"
      },
      "outputs": [
        {
          "output_type": "stream",
          "name": "stdout",
          "text": [
            "Средняя стоимость билета у умерших пассажиров 22.117886885245902\n",
            "Средняя стоимость билета у выживших пассажиров 48.39540760233918\n",
            "->У выживших средняя стоимость билета выше\n"
          ]
        }
      ],
      "source": [
        "print('Средняя стоимость билета у умерших пассажиров', df[df['Survived']==0]['Fare'].mean())\n",
        "print('Средняя стоимость билета у выживших пассажиров', df[df['Survived']==1]['Fare'].mean())\n",
        "print('-> У выживших средняя стоимость билета выше')"
      ]
    },
    {
      "cell_type": "markdown",
      "id": "c41d5d99-65f7-4d17-82ae-971ec959f327",
      "metadata": {
        "id": "c41d5d99-65f7-4d17-82ae-971ec959f327"
      },
      "source": [
        "9. Выведите максимальный и минимальный возраст выживших пассажиров во 2 классе обслуживания"
      ]
    },
    {
      "cell_type": "code",
      "execution_count": null,
      "id": "275bcc04-659b-4521-a9e5-200a5f4ef674",
      "metadata": {
        "id": "275bcc04-659b-4521-a9e5-200a5f4ef674",
        "colab": {
          "base_uri": "https://localhost:8080/"
        },
        "outputId": "c506e3b0-428f-43b3-858b-a4cb03432aea"
      },
      "outputs": [
        {
          "output_type": "execute_result",
          "data": {
            "text/plain": [
              "(62.0, 0.67)"
            ]
          },
          "metadata": {},
          "execution_count": 55
        }
      ],
      "source": [
        "df[(df['Pclass']==2)&(df['Survived']==1)]['Age'].max(), df[(df['Pclass']==2)&(df['Survived']==1)]['Age'].min()"
      ]
    },
    {
      "cell_type": "markdown",
      "id": "a1f7a5c0-259c-4837-a5d1-2dfc05e7c13e",
      "metadata": {
        "id": "a1f7a5c0-259c-4837-a5d1-2dfc05e7c13e"
      },
      "source": [
        "10. Подтвердите или опровергните гипотезу: молодым мужчинам(от 18 лет) выжить легче, чем более взрослым"
      ]
    },
    {
      "cell_type": "code",
      "execution_count": null,
      "id": "a2da4d57-edb4-4179-8bee-3deda6cd00e6",
      "metadata": {
        "id": "a2da4d57-edb4-4179-8bee-3deda6cd00e6",
        "colab": {
          "base_uri": "https://localhost:8080/"
        },
        "outputId": "b945008a-bdee-4bea-ee8c-e8defa2b1716"
      },
      "outputs": [
        {
          "output_type": "stream",
          "name": "stdout",
          "text": [
            "Примем мужчин 45 лет и старше за более взрослых\n",
            "Процент выживаемости молодых мужчин: 17.72151898734177\n",
            "Процент выживаемости более взрослых: 17.72151898734177\n",
            "-> Выживаемость молодых и взрослых мужчин одинакова\n"
          ]
        }
      ],
      "source": [
        "print('Примем мужчин 45 лет и старше за более взрослых')\n",
        "print('Процент выживаемости молодых мужчин: ', end='')\n",
        "print(df[(df['Survived']==1)&(df['Sex']=='male')&(df['Age']>=18)&(df['Age']<45)]['PassengerId'].count()/df[(df['Sex']=='male')&(df['Age']>=18)&(df['Age']<45)]['PassengerId'].count()*100)\n",
        "print('Процент выживаемости более взрослых: ', end='')\n",
        "print(df[(df['Survived']==1)&(df['Sex']=='male')&(df['Age']>=45)]['PassengerId'].count()/df[(df['Sex']=='male')&(df['Age']>=45)]['PassengerId'].count()*100)\n",
        "print('-> Выживаемость молодых и взрослых мужчин одинакова')"
      ]
    },
    {
      "cell_type": "markdown",
      "id": "deb4ca3a-3d8a-4205-bee9-d26fd28638b2",
      "metadata": {
        "id": "deb4ca3a-3d8a-4205-bee9-d26fd28638b2"
      },
      "source": [
        "### 3. Визуализация"
      ]
    },
    {
      "cell_type": "markdown",
      "id": "f8941ce1-cbf2-465a-b013-1b84aeb999ef",
      "metadata": {
        "id": "f8941ce1-cbf2-465a-b013-1b84aeb999ef"
      },
      "source": [
        "Используя библиотеки matplotlib/sns/plotly/pandas и набор данных представленный ранее визуализируйте"
      ]
    },
    {
      "cell_type": "code",
      "source": [
        "import matplotlib.pyplot as plt"
      ],
      "metadata": {
        "id": "qxs_jLVIOMkA"
      },
      "id": "qxs_jLVIOMkA",
      "execution_count": 79,
      "outputs": []
    },
    {
      "cell_type": "markdown",
      "id": "5e98ce6f-8d02-4120-ad85-241494c038d6",
      "metadata": {
        "id": "5e98ce6f-8d02-4120-ad85-241494c038d6"
      },
      "source": [
        "1. Постройте гистограмму распределения возростов пассажиров"
      ]
    },
    {
      "cell_type": "code",
      "execution_count": 82,
      "id": "664666b2-17b7-49dd-a3bd-c4be9361755d",
      "metadata": {
        "id": "664666b2-17b7-49dd-a3bd-c4be9361755d",
        "colab": {
          "base_uri": "https://localhost:8080/",
          "height": 448
        },
        "outputId": "746e759e-1719-4c2f-b6fe-64bf60f7ffd0"
      },
      "outputs": [
        {
          "output_type": "execute_result",
          "data": {
            "text/plain": [
              "<Axes: ylabel='Quantity'>"
            ]
          },
          "metadata": {},
          "execution_count": 82
        },
        {
          "output_type": "display_data",
          "data": {
            "text/plain": [
              "<Figure size 640x480 with 1 Axes>"
            ],
            "image/png": "[encoded data removed]"
          },
          "metadata": {}
        }
      ],
      "source": [
        "df['Age'].plot(kind='hist', bins=40, ylabel='Quantity')"
      ]
    },
    {
      "cell_type": "markdown",
      "id": "4c7500bb-36ca-4ea7-bc3c-4f15afbd4c41",
      "metadata": {
        "id": "4c7500bb-36ca-4ea7-bc3c-4f15afbd4c41"
      },
      "source": [
        "2. Постройте гистограммы распределения цен для пассажиров разных классов"
      ]
    },
    {
      "cell_type": "code",
      "execution_count": 84,
      "id": "7325e7f8-5f00-4a82-8184-7064505f7ccd",
      "metadata": {
        "id": "7325e7f8-5f00-4a82-8184-7064505f7ccd",
        "colab": {
          "base_uri": "https://localhost:8080/",
          "height": 622
        },
        "outputId": "c6ef9754-dbf7-48d2-b42b-43057a5d3512"
      },
      "outputs": [
        {
          "output_type": "execute_result",
          "data": {
            "text/plain": [
              "Pclass\n",
              "1    Axes(0.125,0.11;0.775x0.77)\n",
              "2    Axes(0.125,0.11;0.775x0.77)\n",
              "3    Axes(0.125,0.11;0.775x0.77)\n",
              "Name: Fare, dtype: object"
            ],
            "text/html": [
              "<div>\n",
              "<style scoped>\n",
              "    .dataframe tbody tr th:only-of-type {\n",
              "        vertical-align: middle;\n",
              "    }\n",
              "\n",
              "    .dataframe tbody tr th {\n",
              "        vertical-align: top;\n",
              "    }\n",
              "\n",
              "    .dataframe thead th {\n",
              "        text-align: right;\n",
              "    }\n",
              "</style>\n",
              "<table border=\"1\" class=\"dataframe\">\n",
              "  <thead>\n",
              "    <tr style=\"text-align: right;\">\n",
              "      <th></th>\n",
              "      <th>Fare</th>\n",
              "    </tr>\n",
              "    <tr>\n",
              "      <th>Pclass</th>\n",
              "      <th></th>\n",
              "    </tr>\n",
              "  </thead>\n",
              "  <tbody>\n",
              "    <tr>\n",
              "      <th>1</th>\n",
              "      <td>Axes(0.125,0.11;0.775x0.77)</td>\n",
              "    </tr>\n",
              "    <tr>\n",
              "      <th>2</th>\n",
              "      <td>Axes(0.125,0.11;0.775x0.77)</td>\n",
              "    </tr>\n",
              "    <tr>\n",
              "      <th>3</th>\n",
              "      <td>Axes(0.125,0.11;0.775x0.77)</td>\n",
              "    </tr>\n",
              "  </tbody>\n",
              "</table>\n",
              "</div><br><label><b>dtype:</b> object</label>"
            ]
          },
          "metadata": {},
          "execution_count": 84
        },
        {
          "output_type": "display_data",
          "data": {
            "text/plain": [
              "<Figure size 640x480 with 1 Axes>"
            ],
            "image/png": "[encoded data removed]"
          },
          "metadata": {}
        }
      ],
      "source": [
        "df.groupby('Pclass')['Fare'].plot(kind='hist', legend = True, ylabel='Quantity')"
      ]
    },
    {
      "cell_type": "markdown",
      "id": "efdd0669-36e0-4708-ac6b-ad0d92881113",
      "metadata": {
        "id": "efdd0669-36e0-4708-ac6b-ad0d92881113"
      },
      "source": [
        "3. Постройте зависимость цены от возраста пассажира"
      ]
    },
    {
      "cell_type": "code",
      "execution_count": null,
      "id": "7504a170-04a1-4b86-924d-8d46be16fd3c",
      "metadata": {
        "id": "7504a170-04a1-4b86-924d-8d46be16fd3c",
        "colab": {
          "base_uri": "https://localhost:8080/",
          "height": 466
        },
        "outputId": "d4cb2526-1de8-47aa-8bf0-f3bbee7af65f"
      },
      "outputs": [
        {
          "output_type": "execute_result",
          "data": {
            "text/plain": [
              "<Axes: xlabel='Age', ylabel='Fare'>"
            ]
          },
          "metadata": {},
          "execution_count": 73
        },
        {
          "output_type": "display_data",
          "data": {
            "text/plain": [
              "<Figure size 640x480 with 1 Axes>"
            ],
            "image/png": "[encoded data removed]"
          },
          "metadata": {}
        }
      ],
      "source": [
        "df.plot(x='Age', y='Fare', kind='scatter', xlim=[0,90])"
      ]
    },
    {
      "cell_type": "markdown",
      "id": "b5839a48-e992-45fc-81ee-59cb5aa79dda",
      "metadata": {
        "id": "b5839a48-e992-45fc-81ee-59cb5aa79dda"
      },
      "source": [
        "4. Постройте box plot отображающий распределение цен на билеты в разных классах"
      ]
    },
    {
      "cell_type": "code",
      "execution_count": 75,
      "id": "1a942378-45ea-47a0-bac9-488960491613",
      "metadata": {
        "id": "1a942378-45ea-47a0-bac9-488960491613",
        "colab": {
          "base_uri": "https://localhost:8080/",
          "height": 472
        },
        "outputId": "3dd8cc50-5424-4c30-a293-132e142d114f"
      },
      "outputs": [
        {
          "output_type": "display_data",
          "data": {
            "text/plain": [
              "<Figure size 640x480 with 1 Axes>"
            ],
            "image/png": "[encoded data removed]"
          },
          "metadata": {}
        }
      ],
      "source": [
        "df1 = df[df[\"Pclass\"] == 1][\"Fare\"]\n",
        "df2 = df[df[\"Pclass\"] == 2][\"Fare\"]\n",
        "df3 = df[df[\"Pclass\"] == 3][\"Fare\"]\n",
        "plt.boxplot([df1, df2, df3])\n",
        "plt.title('Распределение цен в зависимости от класса')\n",
        "plt.ylabel('Цена')\n",
        "plt.xlabel('Класс')\n",
        "plt.show()"
      ]
    },
    {
      "cell_type": "code",
      "source": [
        "plt.boxplot(df1)\n",
        "plt.title('Распределение цен для 1 класса')\n",
        "plt.ylabel('Цена')\n",
        "plt.show()"
      ],
      "metadata": {
        "colab": {
          "base_uri": "https://localhost:8080/",
          "height": 452
        },
        "id": "YlmYl1eVN_7K",
        "outputId": "57fea5b7-4607-4736-9983-a636bb0426e8"
      },
      "id": "YlmYl1eVN_7K",
      "execution_count": 76,
      "outputs": [
        {
          "output_type": "display_data",
          "data": {
            "text/plain": [
              "<Figure size 640x480 with 1 Axes>"
            ],
            "image/png": "[encoded data removed]"
          },
          "metadata": {}
        }
      ]
    },
    {
      "cell_type": "code",
      "source": [
        "plt.boxplot(df2)\n",
        "plt.title('Распределение цен для 2 класса')\n",
        "plt.ylabel('Цена')\n",
        "plt.show()"
      ],
      "metadata": {
        "colab": {
          "base_uri": "https://localhost:8080/",
          "height": 452
        },
        "id": "uGXUAfJaOB8v",
        "outputId": "bd014cfb-7645-436d-87a3-eb6a571176bc"
      },
      "id": "uGXUAfJaOB8v",
      "execution_count": 77,
      "outputs": [
        {
          "output_type": "display_data",
          "data": {
            "text/plain": [
              "<Figure size 640x480 with 1 Axes>"
            ],
            "image/png": "[encoded data removed]"
          },
          "metadata": {}
        }
      ]
    },
    {
      "cell_type": "code",
      "source": [
        "plt.boxplot(df3)\n",
        "plt.title('Распределение цен для 3 класса')\n",
        "plt.ylabel('Цена')\n",
        "plt.show()"
      ],
      "metadata": {
        "colab": {
          "base_uri": "https://localhost:8080/",
          "height": 452
        },
        "id": "YE4ChDlEOGU8",
        "outputId": "7cb2d543-2637-4351-d757-db953c436180"
      },
      "id": "YE4ChDlEOGU8",
      "execution_count": 78,
      "outputs": [
        {
          "output_type": "display_data",
          "data": {
            "text/plain": [
              "<Figure size 640x480 with 1 Axes>"
            ],
            "image/png": "[encoded data removed]"
          },
          "metadata": {}
        }
      ]
    },
    {
      "cell_type": "markdown",
      "id": "d4c97bef-bb64-43cc-a89f-7510174492ec",
      "metadata": {
        "id": "d4c97bef-bb64-43cc-a89f-7510174492ec"
      },
      "source": [
        "5. Визуализируйте распределение долей выживших среди мужчин, женщин и детей(до 16 лет)"
      ]
    },
    {
      "cell_type": "code",
      "execution_count": 102,
      "id": "a1f444af-3544-432c-8dc6-bb74d4cff272",
      "metadata": {
        "id": "a1f444af-3544-432c-8dc6-bb74d4cff272",
        "colab": {
          "base_uri": "https://localhost:8080/",
          "height": 428
        },
        "outputId": "f9b41c1f-50b9-4edb-f854-d75a3ba498ae"
      },
      "outputs": [
        {
          "output_type": "display_data",
          "data": {
            "text/plain": [
              "<Figure size 640x480 with 1 Axes>"
            ],
            "image/png": "[encoded data removed]"
          },
          "metadata": {}
        }
      ],
      "source": [
        "children = [df[(df['Age']<16)&(df['Survived']==1)]['PassengerId'].count(), df[(df['Age']<16)&(df['Survived']==0)]['PassengerId'].count()]\n",
        "plt.pie(children, labels=['выжили', 'не выжили'], autopct='%1i%%')\n",
        "plt.title('Распределение среди детей до 16 лет')\n",
        "plt.show()"
      ]
    },
    {
      "cell_type": "code",
      "source": [
        "female = [df[(df['Sex']=='female')&(df['Survived']==1)]['PassengerId'].count(), df[(df['Sex']=='female')&(df['Survived']==0)]['PassengerId'].count()]\n",
        "plt.pie(female, labels=['выжили', 'не выжили'], autopct='%1i%%')\n",
        "plt.title('Распределение среди женщин')\n",
        "plt.show()"
      ],
      "metadata": {
        "colab": {
          "base_uri": "https://localhost:8080/",
          "height": 428
        },
        "id": "_FtDkFcvTCcc",
        "outputId": "37333fb2-52f6-48e4-dfb7-1b8b1cdbb3e2"
      },
      "id": "_FtDkFcvTCcc",
      "execution_count": 100,
      "outputs": [
        {
          "output_type": "display_data",
          "data": {
            "text/plain": [
              "<Figure size 640x480 with 1 Axes>"
            ],
            "image/png": "[encoded data removed]"
          },
          "metadata": {}
        }
      ]
    },
    {
      "cell_type": "code",
      "source": [
        "male = [df[(df['Sex']=='male')&(df['Survived']==1)]['PassengerId'].count(), df[(df['Sex']=='male')&(df['Survived']==0)]['PassengerId'].count()]\n",
        "plt.pie(male, labels=['выжили', 'не выжили'], autopct='%1i%%')\n",
        "plt.title('Распределение среди мужчин')\n",
        "plt.show()"
      ],
      "metadata": {
        "colab": {
          "base_uri": "https://localhost:8080/",
          "height": 428
        },
        "id": "cIhEspeOTQYi",
        "outputId": "bced26cc-445f-4169-8d86-2ce1b1fcde49"
      },
      "id": "cIhEspeOTQYi",
      "execution_count": 101,
      "outputs": [
        {
          "output_type": "display_data",
          "data": {
            "text/plain": [
              "<Figure size 640x480 with 1 Axes>"
            ],
            "image/png": "[encoded data removed]"
          },
          "metadata": {}
        }
      ]
    },
    {
      "cell_type": "markdown",
      "id": "16249674-e680-4ab0-a16a-4e98c24202ed",
      "metadata": {
        "id": "16249674-e680-4ab0-a16a-4e98c24202ed"
      },
      "source": [
        "6. Сравните плотности распределения возростов выживших и умерших пассажиров, сделайте выводы"
      ]
    },
    {
      "cell_type": "code",
      "execution_count": 103,
      "id": "5d1f5e09-3f97-45ad-87f8-c9796cc214db",
      "metadata": {
        "id": "5d1f5e09-3f97-45ad-87f8-c9796cc214db",
        "colab": {
          "base_uri": "https://localhost:8080/",
          "height": 509
        },
        "outputId": "348dae5c-f1c5-46f6-a44d-3ff63a549cf2"
      },
      "outputs": [
        {
          "output_type": "display_data",
          "data": {
            "text/plain": [
              "<Figure size 640x480 with 1 Axes>"
            ],
            "image/png": "[encoded data removed]"
          },
          "metadata": {}
        },
        {
          "output_type": "stream",
          "name": "stdout",
          "text": [
            "-> Дети в большей степени выжили, старые в большей степени погибли\n",
            "-> Наибольшее количество умерших людей были от 20 до 30 лет\n"
          ]
        }
      ],
      "source": [
        "import seaborn as sns\n",
        "sns.kdeplot(df[df['Survived'] == 1]['Age'], fill=True, label='Выжившие', color='green')\n",
        "sns.kdeplot(df[df['Survived'] == 0]['Age'], fill=True, label='Умершие', color='red')\n",
        "plt.title('Плотности распределения возрастов')\n",
        "plt.xlabel('Возраст')\n",
        "plt.ylabel('Плотность')\n",
        "plt.legend()\n",
        "plt.show()\n",
        "print('-> Дети в большей степени выжили, старые в большей степени погибли\\n-> Наибольшее количество умерших людей были от 20 до 30 лет')"
      ]
    },
    {
      "cell_type": "markdown",
      "id": "16afdeec-8c90-4ed1-a599-e0b1343bbf5c",
      "metadata": {
        "id": "16afdeec-8c90-4ed1-a599-e0b1343bbf5c"
      },
      "source": [
        "7. Постройте круговую диаграмму отображающую выживаемость мужчин и женщин в разных классах обслуживания(визуализация должна быть интуитивно понятная без объяснений, женщины и мужчины соответствующих классов объеденены визуально в одну группу и 2 подгруппы)*\n",
        "\n",
        "\\* Задание на доп. балл"
      ]
    },
    {
      "cell_type": "code",
      "execution_count": 104,
      "id": "e10d0cc7-a1ca-4204-a875-b1660e44618d",
      "metadata": {
        "id": "e10d0cc7-a1ca-4204-a875-b1660e44618d"
      },
      "outputs": [],
      "source": []
    }
  ],
  "metadata": {
    "kernelspec": {
      "display_name": "Python 3 (ipykernel)",
      "language": "python",
      "name": "python3"
    },
    "language_info": {
      "codemirror_mode": {
        "name": "ipython",
        "version": 3
      },
      "file_extension": ".py",
      "mimetype": "text/x-python",
      "name": "python",
      "nbconvert_exporter": "python",
      "pygments_lexer": "ipython3",
      "version": "3.11.7"
    },
    "colab": {
      "provenance": []
    }
  },
  "nbformat": 4,
  "nbformat_minor": 5
}